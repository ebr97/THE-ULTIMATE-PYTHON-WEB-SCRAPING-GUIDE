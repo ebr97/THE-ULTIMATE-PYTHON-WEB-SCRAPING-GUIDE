{
 "cells": [
  {
   "cell_type": "code",
   "execution_count": 30,
   "metadata": {},
   "outputs": [],
   "source": [
    "from selenium import webdriver\n",
    "from selenium.webdriver.common.keys import Keys\n",
    "\n",
    "from webdriver_manager.chrome import ChromeDriverManager\n",
    "\n",
    "import time\n",
    "\n",
    "driver = webdriver.Chrome(ChromeDriverManager().install()) # verifies the version of your browser and your webdriver. if you don't have the latest webdriver goes and download it and use it\n",
    "\n",
    "def login():\n",
    "    url = 'https://www.campbells.com.au/convenience/'\n",
    "    username = '0032353419'\n",
    "    password = 'Australia@1'\n",
    "    driver.get(url)\n",
    "    time.sleep(3)\n",
    "    driver.find_element_by_class_name('loginLink').click()\n",
    "    time.sleep(1)\n",
    "    driver.find_element_by_id('j_username').send_keys(username)\n",
    "    time.sleep(2)\n",
    "    driver.find_element_by_id('j_password').send_keys(password)\n",
    "    time.sleep(0.5)\n",
    "    driver.find_element_by_id('j_password').send_keys(Keys.ENTER)\n",
    "    driver.close()\n",
    "\n",
    "\n",
    "login()"
   ]
  }
 ],
 "metadata": {
  "interpreter": {
   "hash": "c238c9d30ef68eafba9d9c8a783187179ae927635ef9ffb6ae99fa0aea57322b"
  },
  "kernelspec": {
   "display_name": "Python 3.9.7 ('base')",
   "language": "python",
   "name": "python3"
  },
  "language_info": {
   "codemirror_mode": {
    "name": "ipython",
    "version": 3
   },
   "file_extension": ".py",
   "mimetype": "text/x-python",
   "name": "python",
   "nbconvert_exporter": "python",
   "pygments_lexer": "ipython3",
   "version": "3.9.7"
  },
  "orig_nbformat": 4
 },
 "nbformat": 4,
 "nbformat_minor": 2
}
